{
 "cells": [
  {
   "cell_type": "markdown",
   "metadata": {},
   "source": [
    "# Waves\n",
    "    There are two types of waves, longitudinal and transverse. Longitudinal wave is parallel to direction of travel. Transverese wave is perpendicular to direction of travel."
   ]
  }
 ],
 "metadata": {
  "language_info": {
   "name": "python"
  }
 },
 "nbformat": 4,
 "nbformat_minor": 2
}
